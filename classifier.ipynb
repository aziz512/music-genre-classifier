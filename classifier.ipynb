{
 "cells": [
  {
   "cell_type": "code",
   "execution_count": 1,
   "metadata": {},
   "outputs": [],
   "source": [
    "import librosa\n",
    "from pydub import AudioSegment\n",
    "from os import path\n",
    "import pandas as pd\n",
    "\n",
    "import numpy as np\n",
    "from tensorflow import keras\n",
    "from sklearn.model_selection import train_test_split\n",
    "\n",
    "import matplotlib.pyplot as plt\n",
    "import librosa.display\n",
    "import math\n",
    "import pickle\n",
    "import os"
   ]
  },
  {
   "cell_type": "code",
   "execution_count": null,
   "metadata": {},
   "outputs": [],
   "source": [
    "pd.show_versions()"
   ]
  },
  {
   "cell_type": "code",
   "execution_count": 2,
   "metadata": {},
   "outputs": [],
   "source": [
    "from utils import convert_to_spectogram,  slice_audio,  process_audio,  process_dataset,  read_file_and_resample, predict_using_model"
   ]
  },
  {
   "attachments": {},
   "cell_type": "markdown",
   "metadata": {},
   "source": [
    "# Preprocessing"
   ]
  },
  {
   "attachments": {},
   "cell_type": "markdown",
   "metadata": {},
   "source": [
    "## Overview"
   ]
  },
  {
   "cell_type": "code",
   "execution_count": 226,
   "metadata": {},
   "outputs": [
    {
     "name": "stdout",
     "output_type": "stream",
     "text": [
      "(32, 130)\n"
     ]
    },
    {
     "data": {
      "text/plain": [
       "<matplotlib.colorbar.Colorbar at 0x2152dbed390>"
      ]
     },
     "execution_count": 226,
     "metadata": {},
     "output_type": "execute_result"
    },
    {
     "data": {
      "image/png": "[encoded data removed]",
      "text/plain": [
       "<Figure size 432x288 with 2 Axes>"
      ]
     },
     "metadata": {
      "needs_background": "light"
     },
     "output_type": "display_data"
    }
   ],
   "source": [
    "file_path = \"./data/classical/Beethoven - 5th Symphony, Op. 67 (Excerpt).mp3\"\n",
    "samples = read_file_and_resample(file_path)\n",
    "\n",
    "slices = slice_audio(samples)\n",
    "\n",
    "section = slices[0]\n",
    "M_db = convert_to_spectogram(section, normalize=False)\n",
    "\n",
    "print(M_db.shape)\n",
    "\n",
    "fig, ax = plt.subplots()\n",
    "img = librosa.display.specshow(M_db, y_axis='mel', x_axis='time', ax=ax)\n",
    "ax.set(title='Mel spectrogram display')\n",
    "fig.colorbar(img, ax=ax, format=\"%+2.f dB\")"
   ]
  },
  {
   "attachments": {},
   "cell_type": "markdown",
   "metadata": {},
   "source": [
    "## Reading files into a dataset"
   ]
  },
  {
   "cell_type": "code",
   "execution_count": 140,
   "metadata": {},
   "outputs": [
    {
     "name": "stdout",
     "output_type": "stream",
     "text": [
      "Attempting to read file:  ./data\\classical\\Alexander Faris - Loveliest Upstairs Downstairs theme music.mp3\n"
     ]
    },
    {
     "name": "stderr",
     "output_type": "stream",
     "text": [
      "c:\\Users\\Aziz\\AppData\\Local\\Programs\\Python\\Python310\\lib\\site-packages\\librosa\\util\\decorators.py:88: UserWarning: PySoundFile failed. Trying audioread instead.\n",
      "  return f(*args, **kwargs)\n"
     ]
    },
    {
     "name": "stdout",
     "output_type": "stream",
     "text": [
      "Attempting to read file:  ./data\\classical\\Bach - Orchestral Suite #3 In D, BWV 1068 - Air On A G String.mp3\n",
      "Attempting to read file:  ./data\\classical\\Bach - Violin Concerto No. 1 in A Minor.mp3\n",
      "error occured reading the file:  ./data\\classical\\Bach - Violin Concerto No. 1 in A Minor.mp3\n",
      "Attempting to read file:  ./data\\classical\\Beethoven - 5th Symphony, Op. 67 (Excerpt).mp3\n",
      "Attempting to read file:  ./data\\classical\\Beethoven - Lisista - Fur Elise.mp3\n",
      "Attempting to read file:  ./data\\classical\\Beethoven - Symphony #3.mp3\n",
      "Attempting to read file:  ./data\\classical\\Berlioz - Rakoczy March.mp3\n",
      "Attempting to read file:  ./data\\classical\\Bethoven - Moonlight Sonata.mp3\n",
      "Attempting to read file:  ./data\\classical\\Bethoven - Symphony 6.mp3\n",
      "Attempting to read file:  ./data\\classical\\Bizet - Carmen - Overture.mp3\n",
      "Attempting to read file:  ./data\\classical\\Bizet - Habanera.mp3\n",
      "Attempting to read file:  ./data\\classical\\Bizet - Micaela_s Air-Carmen.mp3\n",
      "Attempting to read file:  ./data\\classical\\Bizet - Prelude - L_Arlesienne.mp3\n",
      "Attempting to read file:  ./data\\classical\\Brahms - Hungarian Dance.mp3\n",
      "Attempting to read file:  ./data\\classical\\Brahms - Symphony #2 In D, Op. 73 (Excerpt).mp3\n",
      "Attempting to read file:  ./data\\classical\\Brahms - Tragic Overture.mp3\n",
      "Attempting to read file:  ./data\\classical\\Brahms - Waltz #15 In A Flat For Piano 4 Hands, Op. 39.mp3\n",
      "Attempting to read file:  ./data\\classical\\Camille Saint Saëns - French March.mp3\n",
      "Attempting to read file:  ./data\\classical\\Camille Saint Saëns - Samson _ Delilah.mp3\n",
      "Attempting to read file:  ./data\\classical\\Chabrier - España.mp3\n",
      "Attempting to read file:  ./data\\classical\\Chopin - Etude #12, Op. 1012, CT 25, Revolutionary.mp3\n",
      "Attempting to read file:  ./data\\classical\\Chopin - Impromptu #4 Fantaisie-Impromptu.mp3\n",
      "Attempting to read file:  ./data\\classical\\Chopin - Lisista - Etude Op.10 No.3 in E major Tristesse.mp3\n",
      "error occured reading the file:  ./data\\classical\\Chopin - Lisista - Etude Op.10 No.3 in E major Tristesse.mp3\n",
      "Attempting to read file:  ./data\\classical\\Chopin - Minute Waltz.mp3\n",
      "Attempting to read file:  ./data\\classical\\Chopin - Nocturne  (Polanski_s The Pianist movie theme).mp3\n",
      "Attempting to read file:  ./data\\classical\\Chopin - Polonaise.mp3\n",
      "Attempting to read file:  ./data\\classical\\Chopin - Prelude No. 3 In G.mp3\n",
      "Attempting to read file:  ./data\\classical\\Chopin - Waltz #7 In C Sharp Minor, Op. 642.mp3\n",
      "Attempting to read file:  ./data\\classical\\Debussy - Claire de lune.mp3\n",
      "Attempting to read file:  ./data\\classical\\Delibes - Coppélia (Excerpt).mp3\n",
      "Attempting to read file:  ./data\\classical\\Drdla - Souvenir.mp3\n",
      "Attempting to read file:  ./data\\classical\\Dvorak - New World Symphony.mp3\n",
      "Attempting to read file:  ./data\\classical\\Folder.jpg\n",
      "error occured reading the file:  ./data\\classical\\Folder.jpg\n",
      "Attempting to read file:  ./data\\classical\\Frank Mills - Prelude to Romance.mp3\n",
      "Attempting to read file:  ./data\\classical\\Frank Mills - Seascapes.mp3\n",
      "error occured reading the file:  ./data\\classical\\Frank Mills - Seascapes.mp3\n",
      "Attempting to read file:  ./data\\classical\\Frank Mills - Spanish Coffee.mp3\n",
      "Attempting to read file:  ./data\\classical\\Frank Mills - Storm Warning.mp3\n",
      "Attempting to read file:  ./data\\classical\\Gilbert _ Sullivan - Poor Little Buttercup.mp3\n",
      "Attempting to read file:  ./data\\classical\\Gilbert _ Sullivan - Wandering Minstrel - three little maids.mp3\n",
      "Attempting to read file:  ./data\\classical\\Gilbert _ Sullivan- Punishment Fit Mikado.mp3\n",
      "Attempting to read file:  ./data\\classical\\Gounod - Faust Ballet.mp3\n",
      "Attempting to read file:  ./data\\classical\\Grieg - Piano Concerto.mp3\n",
      "Attempting to read file:  ./data\\classical\\Grieg Peer Gynt Suite #1, Op. 46 - Anitra_s Dance.mp3\n",
      "Attempting to read file:  ./data\\classical\\Handel - Hallelujah.mp3\n",
      "Attempting to read file:  ./data\\classical\\Joplin - The Entertainer (Orchestra version).mp3\n",
      "error occured reading the file:  ./data\\classical\\Joplin - The Entertainer (Orchestra version).mp3\n",
      "Attempting to read file:  ./data\\classical\\Joplin - The Entertainer (Piano).mp3\n",
      "Attempting to read file:  ./data\\classical\\Korsakov - Capriccio Espagnol.mp3\n",
      "Attempting to read file:  ./data\\classical\\Korsakov - Hymn To The Sun.mp3\n",
      "Attempting to read file:  ./data\\classical\\Les Foster - Camptown races.mp3\n",
      "Attempting to read file:  ./data\\classical\\Liszt - Hungarian Rhapsody.mp3\n",
      "Attempting to read file:  ./data\\classical\\Liszt - Les Preludes.mp3\n",
      "Attempting to read file:  ./data\\classical\\Liszt - Liebestraum.mp3\n",
      "Attempting to read file:  ./data\\classical\\Mendelssohn - Violin Concerto.mp3\n",
      "Attempting to read file:  ./data\\classical\\Mozart - Concerto No. 21.mp3\n",
      "Attempting to read file:  ./data\\classical\\Mozart - Eine Kleine Nachtmusik.mp3\n",
      "Attempting to read file:  ./data\\classical\\Mozart - Serenade No. 4.mp3\n",
      "Attempting to read file:  ./data\\classical\\Mozart - Symphony No. 40.mp3\n",
      "Attempting to read file:  ./data\\classical\\Mozart - Symphony No. 41.mp3\n",
      "Attempting to read file:  ./data\\classical\\Offenbach - La Belle Helene.mp3\n",
      "Attempting to read file:  ./data\\classical\\Offenbach - Tales of Hoffman - Barcarolle.mp3\n",
      "Attempting to read file:  ./data\\classical\\Patriotic - Marsellaise (French Anthem).mp3\n",
      "Attempting to read file:  ./data\\classical\\Ponchielli La Gioconda - Dance Of The Hours.mp3\n",
      "Attempting to read file:  ./data\\classical\\Rimsky-Korsakov Scheherazade, Op. 35.mp3\n",
      "Attempting to read file:  ./data\\classical\\Rossini Guillaume - William Tell - Overture.mp3\n",
      "Attempting to read file:  ./data\\classical\\Rubinstein - Melodie In F.mp3\n",
      "Attempting to read file:  ./data\\classical\\Rubinstein - Romance.mp3\n",
      "Attempting to read file:  ./data\\classical\\Schubert - (lovely) Schwanengesang, D 957 - Ständchen.mp3\n",
      "Attempting to read file:  ./data\\classical\\Schubert - Unfinished Symphony.mp3\n",
      "Attempting to read file:  ./data\\classical\\Schumann - Kinderszenen, Op. 15 - Traümerie.mp3\n",
      "Attempting to read file:  ./data\\classical\\Stephen Foster - Jeanie With The Light Brown Hair.mp3\n",
      "Attempting to read file:  ./data\\classical\\Strauss - Blue Danube Waltz - Op. 314.mp3\n",
      "Attempting to read file:  ./data\\classical\\Strauss - Emperor_s Waltz.mp3\n",
      "Attempting to read file:  ./data\\classical\\Strauss - Fleidermaus Overture.mp3\n",
      "Attempting to read file:  ./data\\classical\\Strauss - Geschichten Aus Dem Wienerwald, Op. 325.mp3\n",
      "Attempting to read file:  ./data\\classical\\Strauss - Perpetual Motion.mp3\n",
      "Attempting to read file:  ./data\\classical\\Strauss - Radetzky March, Op. 228.mp3\n",
      "Attempting to read file:  ./data\\classical\\Strauss - Tritsch Tratsch Polka.mp3\n",
      "Attempting to read file:  ./data\\classical\\Strauss - Voices Of Spring.mp3\n",
      "Attempting to read file:  ./data\\classical\\Suppé - Dichter Und Bauer.mp3\n",
      "Attempting to read file:  ./data\\classical\\Suppé - Light Cavalry Overture.mp3\n",
      "Attempting to read file:  ./data\\classical\\Tchaikovsky - 1812 Overture, Op. 49.mp3\n",
      "Attempting to read file:  ./data\\classical\\Tchaikovsky - 6 Songs, Op. 6 - Lonely Heart.mp3\n",
      "Attempting to read file:  ./data\\classical\\Tchaikovsky - Album Pour Enfants, Op. 39 - Neapolitain Song.mp3\n",
      "Attempting to read file:  ./data\\classical\\Tchaikovsky - Capriccio Italien.mp3\n",
      "error occured reading the file:  ./data\\classical\\Tchaikovsky - Capriccio Italien.mp3\n",
      "Attempting to read file:  ./data\\classical\\Tchaikovsky - Dance of the Swans.mp3\n",
      "Attempting to read file:  ./data\\classical\\Tchaikovsky - March from nutcracker.mp3\n",
      "Attempting to read file:  ./data\\classical\\Tchaikovsky - Nutcracker Overture.mp3\n",
      "Attempting to read file:  ./data\\classical\\Tchaikovsky - Piano Concerto #1.mp3\n",
      "Attempting to read file:  ./data\\classical\\Tchaikovsky - Spanish Dance.mp3\n",
      "Attempting to read file:  ./data\\classical\\Tchaikovsky - Symphony #5 In E Minor, Op. 64 (Excerpt).mp3\n",
      "Attempting to read file:  ./data\\classical\\Tchaikovsky - Wall of flowers.mp3\n",
      "Attempting to read file:  ./data\\classical\\Traditional - Greensleeves.mp3\n",
      "Attempting to read file:  ./data\\classical\\Verdi - Triumphal March.mp3\n",
      "Attempting to read file:  ./data\\classical\\Vivaldi - I Musici - The Four Seasons  - Winter Allegro Non Molto.mp3\n",
      "Attempting to read file:  ./data\\classical\\Vivaldi - I Musici - The Four Seasons - Minor Winter Allegro.mp3\n",
      "Attempting to read file:  ./data\\classical\\Waldteufel - Estudiantina, Op. 191.mp3\n",
      "Attempting to read file:  ./data\\classical\\Waldteufel - Skaters Waltz.mp3\n",
      "Attempting to read file:  ./data\\country\\001. Patsy Cline With The Jordanaires - Crazy.mp3\n",
      "Attempting to read file:  ./data\\country\\002. Dolly Parton - Jolene.mp3\n",
      "Attempting to read file:  ./data\\country\\003. Johnny Cash - Ring of Fire.mp3\n",
      "Attempting to read file:  ./data\\country\\004. Merle Haggard - Mama Tried.mp3\n",
      "Attempting to read file:  ./data\\country\\005. Hank Williams - Cold, Cold Heart.mp3\n",
      "Attempting to read file:  ./data\\country\\006. Tammy Wynette - Stand By Your Man.mp3\n",
      "Attempting to read file:  ./data\\country\\007. Earl Scruggs - Foggy Mountain Breakdown (2001 Earl Scruggs _ Friends Version).mp3\n",
      "Attempting to read file:  ./data\\country\\008. Patsy Cline - I Fall To Pieces.mp3\n",
      "Attempting to read file:  ./data\\country\\009. Johnny Cash - Jackson.mp3\n",
      "Attempting to read file:  ./data\\country\\010. Loretta Lynn - Coal Miner_s Daughter.mp3\n",
      "Attempting to read file:  ./data\\country\\011. Willie Nelson - Blue Eyes Crying In the Rain.mp3\n",
      "Attempting to read file:  ./data\\country\\012. Gene Autry - You Are My Sunshine (Album Version).mp3\n",
      "error occured reading the file:  ./data\\country\\012. Gene Autry - You Are My Sunshine (Album Version).mp3\n",
      "Attempting to read file:  ./data\\country\\013. Hank Williams - I_m So Lonesome I Could Cry.mp3\n",
      "Attempting to read file:  ./data\\country\\014. Dolly Parton - I Will Always Love You.mp3\n",
      "error occured reading the file:  ./data\\country\\014. Dolly Parton - I Will Always Love You.mp3\n",
      "Attempting to read file:  ./data\\country\\015. Johnny Cash - I Walk the Line.mp3\n",
      "Attempting to read file:  ./data\\country\\016. Patsy Cline - Walking After Midnight.mp3\n",
      "Attempting to read file:  ./data\\country\\017. Tammy Wynette - D-I-V-O-R-C-E.mp3\n",
      "Attempting to read file:  ./data\\country\\018. Willie Nelson - Always On My Mind.mp3\n",
      "Attempting to read file:  ./data\\country\\019. Hank Williams - Lovesick Blues (Single Version).mp3\n",
      "Attempting to read file:  ./data\\country\\020. Merle Haggard - I Think I_ll Just Stay Here And Drink.mp3\n",
      "Attempting to read file:  ./data\\country\\021. Drifting Cowboys - Your Cheatin Heart.mp3\n",
      "Attempting to read file:  ./data\\country\\022. Roger Miller - King Of The Road (Re-Recorded In Stereo).mp3\n",
      "Attempting to read file:  ./data\\country\\023. Loretta Lynn - Fist City (Single Version).mp3\n",
      "Attempting to read file:  ./data\\country\\024. Dolly Parton - Coat of Many Colors.mp3\n",
      "Attempting to read file:  ./data\\country\\025. Earl Scruggs - Roll In My Sweet Baby_s Arms (Album Version).mp3\n",
      "Attempting to read file:  ./data\\country\\026. John Denver - Take Me Home, Country Roads.mp3\n",
      "Attempting to read file:  ./data\\country\\027. Patsy Cline - She_s Got You.mp3\n",
      "Attempting to read file:  ./data\\country\\028. Faron Young - Hello Walls.mp3\n",
      "Attempting to read file:  ./data\\country\\029. Glen Campbell - Rhinestone Cowboy.mp3\n",
      "Attempting to read file:  ./data\\country\\030. Johnny Cash - Folsom Prison Blues (Live at San Quentin State Prison, San Quentin, CA - February 1969).mp3\n",
      "Attempting to read file:  ./data\\country\\031. Buck Owens - Act Naturally (2006 Remastered Version).mp3\n",
      "Attempting to read file:  ./data\\country\\032. Hank Williams - I Saw The Light (Single Version).mp3\n",
      "Attempting to read file:  ./data\\country\\033. Patsy Cline - Back In Baby_s Arms.mp3\n",
      "Attempting to read file:  ./data\\country\\034. Johnny Cash - (Ghost) Riders in the Sky.mp3\n",
      "Attempting to read file:  ./data\\country\\035. Loretta Lynn - You Ain_t Woman Enough (Single Version).mp3\n",
      "Attempting to read file:  ./data\\country\\036. Emmylou Harris - Boulder to Birmingham (2003 Remaster).mp3\n",
      "Attempting to read file:  ./data\\country\\037. Patsy Cline - You Belong To Me.mp3\n",
      "Attempting to read file:  ./data\\country\\038. Skeeter Davis - The End of the World.mp3\n",
      "Attempting to read file:  ./data\\country\\039. Jeannie C. Riley - Harper Valley P.T.A.mp3\n",
      "Attempting to read file:  ./data\\country\\040. Kenny Rogers - The Gambler.mp3\n",
      "Attempting to read file:  ./data\\country\\041. Dolly Parton - 9 to 5.mp3\n",
      "Attempting to read file:  ./data\\country\\042. Kris Kristofferson - Sunday Mornin_ Comin_ Down.mp3\n",
      "Attempting to read file:  ./data\\country\\043. Lynn Anderson - Rose Garden.mp3\n",
      "Attempting to read file:  ./data\\country\\044. Eddy Arnold - Make the World Go Away.mp3\n",
      "error occured reading the file:  ./data\\country\\044. Eddy Arnold - Make the World Go Away.mp3\n",
      "Attempting to read file:  ./data\\country\\045. Drifting Cowboys - Hey Good Lookin_.mp3\n",
      "Attempting to read file:  ./data\\country\\046. Glen Campbell - Wichita Lineman.mp3\n",
      "Attempting to read file:  ./data\\country\\047. The Carter Family - Will the Circle Be Unbroken.mp3\n",
      "Attempting to read file:  ./data\\country\\048. Roger Miller - Oo-De-Lally (From _Robin Hood_).mp3\n",
      "Attempting to read file:  ./data\\country\\049. Gene Autry - Back In The Saddle Again (Album Version).mp3\n",
      "error occured reading the file:  ./data\\country\\049. Gene Autry - Back In The Saddle Again (Album Version).mp3\n",
      "Attempting to read file:  ./data\\country\\050. Jimmie Rodgers - In the Jailhouse Now.mp3\n",
      "Attempting to read file:  ./data\\country\\051. Gene Autry - Don_t Fence Me In (Album Version).mp3\n",
      "error occured reading the file:  ./data\\country\\051. Gene Autry - Don_t Fence Me In (Album Version).mp3\n",
      "Attempting to read file:  ./data\\country\\052. Merle Haggard - Okie From Muskogee.mp3\n",
      "error occured reading the file:  ./data\\country\\052. Merle Haggard - Okie From Muskogee.mp3\n",
      "Attempting to read file:  ./data\\country\\053. George Jones - We_re Gonna Hold On (Album Version).mp3\n",
      "error occured reading the file:  ./data\\country\\053. George Jones - We_re Gonna Hold On (Album Version).mp3\n",
      "Attempting to read file:  ./data\\country\\054. Conway Twitty - Hello Darlin_ (Single Version).mp3\n",
      "Attempting to read file:  ./data\\country\\055. John Denver - Rocky Mountain High.mp3\n",
      "Attempting to read file:  ./data\\country\\056. Kitty Wells - It Wasn_t God Who Made Honky Tonk Angels.mp3\n",
      "Attempting to read file:  ./data\\country\\057. Lefty Frizzell - Always Late (With Your Kisses).mp3\n",
      "Attempting to read file:  ./data\\country\\058. Jimmie Rodgers - Kisses Sweeter Than Wine.mp3\n",
      "Attempting to read file:  ./data\\country\\059. Hank Williams - Move It On Over.mp3\n",
      "Attempting to read file:  ./data\\country\\060. Gene Autry - Home On the Range.mp3\n",
      "Attempting to read file:  ./data\\country\\061. Johnny Cash - Get Rhythm.mp3\n",
      "Attempting to read file:  ./data\\country\\062. Roger Miller - Me And Bobby McGee (Album Version).mp3\n",
      "Attempting to read file:  ./data\\country\\063. Buck Owens - Streets Of Bakersfield.mp3\n",
      "Attempting to read file:  ./data\\country\\064. Nancy Sinatra - These Boots Are Made For Walkin_.mp3\n",
      "Attempting to read file:  ./data\\country\\065. George Jones - She Thinks I Still Care.mp3\n",
      "error occured reading the file:  ./data\\country\\065. George Jones - She Thinks I Still Care.mp3\n",
      "Attempting to read file:  ./data\\country\\066. Chet Atkins - Freight Train.mp3\n",
      "error occured reading the file:  ./data\\country\\066. Chet Atkins - Freight Train.mp3\n",
      "Attempting to read file:  ./data\\country\\067. Elvis Presley - Love Me Tender.mp3\n",
      "Attempting to read file:  ./data\\country\\068. Emmylou Harris - Wayfaring Stranger (2002 Remaster).mp3\n",
      "Attempting to read file:  ./data\\country\\069. John Denver - Thank God I_m a Country Boy.mp3\n",
      "Attempting to read file:  ./data\\country\\070. Jimmy Dean - Big Bad John.mp3\n",
      "error occured reading the file:  ./data\\country\\070. Jimmy Dean - Big Bad John.mp3\n",
      "Attempting to read file:  ./data\\country\\071. Eddy Arnold - Cattle Call.mp3\n",
      "Attempting to read file:  ./data\\country\\072. Ernest Tubb - Walking The Floor Over You (1941 Single Version).mp3\n",
      "Attempting to read file:  ./data\\country\\073. Kenny Rogers - Coward Of The County.mp3\n",
      "Attempting to read file:  ./data\\country\\074. Emmylou Harris - Two More Bottles of Wine (2003 Remaster).mp3\n",
      "Attempting to read file:  ./data\\country\\075. Ray Price - Heartaches By The Number.mp3\n",
      "Attempting to read file:  ./data\\country\\076. Bill Monroe _ The Bluegrass Boys - In The Pines.mp3\n",
      "Attempting to read file:  ./data\\country\\077. Lefty Frizzell - The Long Black Veil.mp3\n",
      "Attempting to read file:  ./data\\country\\078. Sammi Smith - Help Me Make It Through The Night.mp3\n",
      "Attempting to read file:  ./data\\country\\079. Waylon Jennings - Good Hearted Woman.mp3\n",
      "error occured reading the file:  ./data\\country\\079. Waylon Jennings - Good Hearted Woman.mp3\n",
      "Attempting to read file:  ./data\\country\\080. George Jones - He Stopped Loving Her Today.mp3\n",
      "Attempting to read file:  ./data\\country\\081. Brenda Lee - I_m Sorry.mp3\n",
      "Attempting to read file:  ./data\\country\\082. Roy Orbison - Blue Bayou.mp3\n",
      "error occured reading the file:  ./data\\country\\082. Roy Orbison - Blue Bayou.mp3\n",
      "Attempting to read file:  ./data\\country\\083. Porter Wagoner - Daddy Was an Old Time Preacher Man.mp3\n",
      "Attempting to read file:  ./data\\country\\084. June Carter Cash - A Good Man.mp3\n",
      "Attempting to read file:  ./data\\country\\085. Ray Price - Crazy Arms.mp3\n",
      "error occured reading the file:  ./data\\country\\085. Ray Price - Crazy Arms.mp3\n",
      "Attempting to read file:  ./data\\country\\086. David Allan Coe - You Never Even Called Me by My Name.mp3\n",
      "Attempting to read file:  ./data\\country\\087. Ferlin Husky - Gone.mp3\n",
      "Attempting to read file:  ./data\\country\\088. Hank Snow, The Singing Ranger, And His Rainbow Ranch Boys - I_m Movin_ On.mp3\n",
      "Attempting to read file:  ./data\\country\\089. Marty Robbins - El Paso.mp3\n",
      "Attempting to read file:  ./data\\country\\090. Wanda Jackson - Let_s Have A Party.mp3\n",
      "Attempting to read file:  ./data\\country\\091. Jim Reeves - He_ll Have to Go.mp3\n",
      "Attempting to read file:  ./data\\country\\092. Leroy Van Dyke - Walk On By.mp3\n",
      "Attempting to read file:  ./data\\country\\093. Anne Murray - Could I Have This Dance.mp3\n",
      "Attempting to read file:  ./data\\country\\094. Don Gibson - Oh Lonesome Me.mp3\n",
      "Attempting to read file:  ./data\\country\\095. Roger Miller - Chug A Lug.mp3\n",
      "Attempting to read file:  ./data\\country\\096. Patsy Cline - Blue Moon Of Kentucky.mp3\n",
      "Attempting to read file:  ./data\\country\\097. Bill Anderson - Still.mp3\n",
      "Attempting to read file:  ./data\\country\\098. Hank Locklin - Please Help Me, I_m Falling.mp3\n",
      "Attempting to read file:  ./data\\country\\099. Conway Twitty - It_s Only Make Believe (Single Version).mp3\n",
      "Attempting to read file:  ./data\\country\\100. Willie Nelson - Buddy.mp3\n",
      "error occured reading the file:  ./data\\country\\100. Willie Nelson - Buddy.mp3\n",
      "Attempting to read file:  ./data\\hiphop\\01. Post Malone, The Weeknd - One Right Now.mp3\n",
      "Attempting to read file:  ./data\\hiphop\\02. Lil Nas X, Jack Harlow - INDUSTRY BABY.mp3\n",
      "Attempting to read file:  ./data\\hiphop\\03. Skylar Grey, POLO G, Mozzy, Eminem - Last One Standing (From Venom_ Let There Be Carnage).mp3\n",
      "Attempting to read file:  ./data\\hiphop\\04. Young Thug, A$AP Rocky, Post Malone - Livin It Up.mp3\n",
      "Attempting to read file:  ./data\\hiphop\\05. G-Eazy, Marc E. Bassy - Faithful.mp3\n",
      "Attempting to read file:  ./data\\hiphop\\06. Latto - Big Energy.mp3\n",
      "Attempting to read file:  ./data\\hiphop\\07. Drake, 21 Savage, Project Pat - Knife Talk.mp3\n",
      "Attempting to read file:  ./data\\hiphop\\08. Megan Thee Stallion - Eat It.mp3\n",
      "Attempting to read file:  ./data\\hiphop\\09. 24kgoldn, Iann Dior - Mood.mp3\n",
      "Attempting to read file:  ./data\\hiphop\\10. POLO G - RAPSTAR.mp3\n",
      "Attempting to read file:  ./data\\hiphop\\100. Pop Smoke - Mood Swings.mp3\n",
      "Attempting to read file:  ./data\\hiphop\\11. Juice Wrld, Marshmello - Come _ Go.mp3\n",
      "Attempting to read file:  ./data\\hiphop\\12. Drake, Future, Young Thug - Way 2 Sexy.mp3\n",
      "Attempting to read file:  ./data\\hiphop\\13. POLO G - Bad Man (Smooth Criminal).mp3\n",
      "Attempting to read file:  ./data\\hiphop\\14. Nardo Wick, G Herbo, Lil Durk, 21 Savage - Who Want Smoke__.mp3\n",
      "Attempting to read file:  ./data\\hiphop\\15. Juice Wrld - Already Dead.mp3\n",
      "Attempting to read file:  ./data\\hiphop\\16. Eminem - Killer.mp3\n",
      "Attempting to read file:  ./data\\hiphop\\17. Travis Scott - ESCAPE PLAN.mp3\n",
      "Attempting to read file:  ./data\\hiphop\\18. DaBaby - Ball If I Want To.mp3\n",
      "Attempting to read file:  ./data\\hiphop\\19. Rod Wave - By Your Side.mp3\n",
      "Attempting to read file:  ./data\\hiphop\\20. Ricky Desktop - The Chicken Wing Beat.mp3\n",
      "Attempting to read file:  ./data\\hiphop\\21. Baby Keem, Kendrick Lamar - family ties.mp3\n",
      "Attempting to read file:  ./data\\hiphop\\22. Juice Wrld - Wishing Well.mp3\n",
      "Attempting to read file:  ./data\\hiphop\\23. Wale, Yella Beezy, Maxo Kream - Down South.mp3\n",
      "Attempting to read file:  ./data\\hiphop\\24. Lil Tjay, 6lack - Calling My Phone.mp3\n",
      "Attempting to read file:  ./data\\hiphop\\25. G-Eazy, Demi Lovato - Breakdown.mp3\n",
      "Attempting to read file:  ./data\\hiphop\\26. Megan Thee Stallion - Thot Shit.mp3\n",
      "Attempting to read file:  ./data\\hiphop\\27. Young Thug, Drake, Travis Scott - Bubbly (with Drake _ Travis Scott).mp3\n",
      "Attempting to read file:  ./data\\hiphop\\28. Tech N9ne, Joey Cool, King Iso, Dwayne Johnson - Face Off.mp3\n",
      "Attempting to read file:  ./data\\hiphop\\29. Pop Smoke, Lil Baby, DaBaby - For The Night.mp3\n",
      "Attempting to read file:  ./data\\hiphop\\30. Moneybagg Yo - Wockesha.mp3\n",
      "Attempting to read file:  ./data\\hiphop\\31. Saweetie, Doja Cat - Best Friend.mp3\n",
      "Attempting to read file:  ./data\\hiphop\\32. Pop Smoke - What You Know Bout Love.mp3\n",
      "Attempting to read file:  ./data\\hiphop\\33. Sleepy Hallow - 2055.mp3\n",
      "Attempting to read file:  ./data\\hiphop\\34. Macklemore, Windser - Next Year.mp3\n",
      "Attempting to read file:  ./data\\hiphop\\35. DaBaby, Lil Wayne - Lonely.mp3\n",
      "Attempting to read file:  ./data\\hiphop\\36. Pooh Shiesty, Lil Durk - Back In Blood.mp3\n",
      "Attempting to read file:  ./data\\hiphop\\37. DJ Khaled, Lil Baby, Lil Durk - EVERY CHANCE I GET.mp3\n",
      "Attempting to read file:  ./data\\hiphop\\38. Wale, Cool _ Dre, J. Cole - Poke It Out.mp3\n",
      "Attempting to read file:  ./data\\hiphop\\39. Joyner Lucas, J. Cole - Your Heart.mp3\n",
      "Attempting to read file:  ./data\\hiphop\\40. Blxst, Tyga, Ty Dolla $ign - Chosen.mp3\n",
      "Attempting to read file:  ./data\\hiphop\\41. Drake, Lil Baby - Girls Want Girls.mp3\n",
      "Attempting to read file:  ./data\\hiphop\\42. Meek Mill, Lil Baby, Lil Durk - Sharing Locations.mp3\n",
      "Attempting to read file:  ./data\\hiphop\\43. Roddy Ricch - late at night.mp3\n",
      "Attempting to read file:  ./data\\hiphop\\44. Cardi B - Up.mp3\n",
      "Attempting to read file:  ./data\\hiphop\\45. Cardi B, Megan Thee Stallion - WAP.mp3\n",
      "Attempting to read file:  ./data\\hiphop\\46. BIA - WHOLE LOTTA MONEY.mp3\n",
      "Attempting to read file:  ./data\\hiphop\\47. Travis Scott - goosebumps.mp3\n",
      "Attempting to read file:  ./data\\hiphop\\48. Lil Tecca - LOT OF ME.mp3\n",
      "Attempting to read file:  ./data\\hiphop\\49. Kodak Black - Super Gremlin.mp3\n",
      "Attempting to read file:  ./data\\hiphop\\50. NF - JUST LIKE YOU.mp3\n",
      "Attempting to read file:  ./data\\hiphop\\51. Moneybagg Yo - Scorpio.mp3\n",
      "Attempting to read file:  ./data\\hiphop\\52. Joyner Lucas, Lil Baby - Ramen _ OJ.mp3\n",
      "Attempting to read file:  ./data\\hiphop\\53. Kanye West - Praise God.mp3\n",
      "Attempting to read file:  ./data\\hiphop\\54. Rod Wave - Tombstone.mp3\n",
      "Attempting to read file:  ./data\\hiphop\\55. Kanye West - Hurricane.mp3\n",
      "Attempting to read file:  ./data\\hiphop\\56. Post Malone - Motley Crew.mp3\n",
      "Attempting to read file:  ./data\\hiphop\\57. Juice Wrld, Marshmello, The Kid Laroi - Hate The Other Side.mp3\n",
      "Attempting to read file:  ./data\\hiphop\\58. DaBaby - Red Light Green Light.mp3\n",
      "Attempting to read file:  ./data\\hiphop\\59. NLE Choppa - I.Y.B.mp3\n",
      "Attempting to read file:  ./data\\hiphop\\60. Moneybagg Yo - Time Today.mp3\n",
      "Attempting to read file:  ./data\\hiphop\\61. Playboi Carti - Sky.mp3\n",
      "Attempting to read file:  ./data\\hiphop\\62. Gunna, Future - too easy.mp3\n",
      "Attempting to read file:  ./data\\hiphop\\63. NLE Choppa - Jumpin.mp3\n",
      "Attempting to read file:  ./data\\hiphop\\64. Megan Thee Stallion - Body.mp3\n",
      "Attempting to read file:  ./data\\hiphop\\65. Lil Nas X - THATS WHAT I WANT.mp3\n",
      "Attempting to read file:  ./data\\hiphop\\66. Kevin Gates - Big Gangsta.mp3\n",
      "Attempting to read file:  ./data\\hiphop\\67. Yung Bleu, Drake - You’re Mines Still.mp3\n",
      "Attempting to read file:  ./data\\hiphop\\68. Joyner Lucas, Ty Dolla $ign - Late to the Party.mp3\n",
      "Attempting to read file:  ./data\\hiphop\\69. Meek Mill, Lil Uzi Vert - Blue Notes 2.mp3\n",
      "Attempting to read file:  ./data\\hiphop\\70. YoungBoy Never Broke Again - Nevada.mp3\n",
      "Attempting to read file:  ./data\\hiphop\\71. Drake, Travis Scott - Fair Trade.mp3\n",
      "Attempting to read file:  ./data\\hiphop\\72. CJ - Whoopty.mp3\n",
      "Attempting to read file:  ./data\\hiphop\\73. Pop Smoke, A Boogie Wit da Hoodie - Hello.mp3\n",
      "Attempting to read file:  ./data\\hiphop\\74. Juice Wrld, Halsey - Life_s A Mess.mp3\n",
      "Attempting to read file:  ./data\\hiphop\\75. Juice Wrld, Justin Bieber - Wandered To LA.mp3\n",
      "Attempting to read file:  ./data\\hiphop\\76. Drake, Lil Baby - Wants and Needs.mp3\n",
      "Attempting to read file:  ./data\\hiphop\\77. FL Dusa, Kevin Gates - Dear God.mp3\n",
      "Attempting to read file:  ./data\\hiphop\\78. Coi Leray - TWINNEM.mp3\n",
      "Attempting to read file:  ./data\\hiphop\\79. Key Glock - Ambition For Cash.mp3\n",
      "Attempting to read file:  ./data\\hiphop\\80. Rod Wave, Lil Durk - Already Won.mp3\n",
      "Attempting to read file:  ./data\\hiphop\\81. Trippie Redd, Playboi Carti - Miss The Rage.mp3\n",
      "Attempting to read file:  ./data\\hiphop\\82. Tay Money - The Assignment.mp3\n",
      "Attempting to read file:  ./data\\hiphop\\83. Young Stoner Life, Young Thug, Gunna - Ski.mp3\n",
      "Attempting to read file:  ./data\\hiphop\\84. Flipp Dinero - No Option.mp3\n",
      "Attempting to read file:  ./data\\hiphop\\85. Rick Ross, Jazmine Sullivan, 21 Savage - Outlawz.mp3\n",
      "Attempting to read file:  ./data\\hiphop\\86. Kevin Gates - Me Too.mp3\n",
      "Attempting to read file:  ./data\\hiphop\\87. DaBaby - ROOF.mp3\n",
      "Attempting to read file:  ./data\\hiphop\\88. Pppboyz4life - Big Flex.mp3\n",
      "Attempting to read file:  ./data\\hiphop\\89. Bbno$, Rich Brian - edamame.mp3\n",
      "Attempting to read file:  ./data\\hiphop\\90. MO3, Og Bobby Billions - Outside (Better Days).mp3\n",
      "Attempting to read file:  ./data\\hiphop\\91. Kenndog - Beethoven.mp3\n",
      "Attempting to read file:  ./data\\hiphop\\92. Maxo Kream, A$AP Rocky - STREETS ALONE.mp3\n",
      "Attempting to read file:  ./data\\hiphop\\93. DJ Khaled, Drake - POPSTAR.mp3\n",
      "Attempting to read file:  ./data\\hiphop\\94. Yo Gotti, DaBaby - Drop.mp3\n",
      "Attempting to read file:  ./data\\hiphop\\95. Drake, Lil Durk - Laugh Now Cry Later.mp3\n",
      "Attempting to read file:  ./data\\hiphop\\96. Lil Baby - The Bigger Picture.mp3\n",
      "Attempting to read file:  ./data\\hiphop\\97. Cochise, $Not - Tell Em.mp3\n",
      "Attempting to read file:  ./data\\hiphop\\98. Lil Baby, Lil Durk, Travis Scott - Hats Off.mp3\n",
      "Attempting to read file:  ./data\\hiphop\\99. YoungBoy Never Broke Again - Right Foot Creep.mp3\n",
      "Attempting to read file:  ./data\\jazz\\01. Count Basie - Honeysuckle Rose.mp3\n",
      "Attempting to read file:  ./data\\jazz\\02. Marilyn Monroe - I Wanna Be Loved By You.mp3\n",
      "Attempting to read file:  ./data\\jazz\\03. Jo Jones - Satin Doll.mp3\n",
      "Attempting to read file:  ./data\\jazz\\04. Julie London - Cry Me a River.mp3\n",
      "Attempting to read file:  ./data\\jazz\\05. Mel Powell - S Wonderful.mp3\n",
      "Attempting to read file:  ./data\\jazz\\06. Henry Mancini - A Quiet Gass.mp3\n",
      "Attempting to read file:  ./data\\jazz\\07. Lionel Hampton - Lullaby of Birdland.mp3\n",
      "Attempting to read file:  ./data\\jazz\\08. Gene Krupa - Let Me Off Uptown.mp3\n",
      "Attempting to read file:  ./data\\jazz\\09. Mildred Bailey - My Melancholy Baby.mp3\n",
      "Attempting to read file:  ./data\\jazz\\10. Jimmy Rushing - Pennies from Heaven.mp3\n",
      "Attempting to read file:  ./data\\jazz\\100. Jonny Cooper Orchestra - Harlem Nocturne.mp3\n",
      "Attempting to read file:  ./data\\jazz\\11. Benny Goodman - Sing Sing Sing.mp3\n",
      "Attempting to read file:  ./data\\jazz\\12. Ed Bentley - Black Coffee.mp3\n",
      "Attempting to read file:  ./data\\jazz\\13. Mel Torme - Lullaby of Birdland.mp3\n",
      "Attempting to read file:  ./data\\jazz\\14. Ronnie Scott - A Night In Tunisia.mp3\n",
      "Attempting to read file:  ./data\\jazz\\15. Frankie Laine - That_s My Desire.mp3\n",
      "Attempting to read file:  ./data\\jazz\\16. Thelonious Monk - Off Minor.mp3\n",
      "Attempting to read file:  ./data\\jazz\\17. Ahmad Jamal - Patterns.mp3\n",
      "Attempting to read file:  ./data\\jazz\\18. Stan Getz - I_ve Got You Under My Skin.mp3\n",
      "Attempting to read file:  ./data\\jazz\\19. Erroll Garner - The Lady Is a Tramp.mp3\n",
      "Attempting to read file:  ./data\\jazz\\20. Sarah Vaughan - Embraceable You.mp3\n",
      "Attempting to read file:  ./data\\jazz\\21. Art Blakey - Moon River.mp3\n",
      "Attempting to read file:  ./data\\jazz\\22. Eddie Lockjaw Davis - Bewitched,Bothered and Bewildered.mp3\n",
      "Attempting to read file:  ./data\\jazz\\23. Lena Horne - Old Devil Moon.mp3\n",
      "Attempting to read file:  ./data\\jazz\\24. Benny Carter - Crazy Rhythm.mp3\n",
      "Attempting to read file:  ./data\\jazz\\25. David Benoit - Here There And Everywhere.mp3\n",
      "Attempting to read file:  ./data\\jazz\\26. Ray Anthony _ His Orchestra - Dragnet.mp3\n",
      "Attempting to read file:  ./data\\jazz\\27. Lawrence Welk - Smoke Gets In Your Eyes.mp3\n",
      "Attempting to read file:  ./data\\jazz\\28. Gene Krupa - Drummin_ Man.mp3\n",
      "Attempting to read file:  ./data\\jazz\\29. June Christy - Lullaby In Rhythm.mp3\n",
      "Attempting to read file:  ./data\\jazz\\30. Ted Heath - East of the Sun.mp3\n",
      "Attempting to read file:  ./data\\jazz\\31. Al Hirt - Tuxedo Junction.mp3\n",
      "Attempting to read file:  ./data\\jazz\\32. Artie Shaw - Begin the Beguine.mp3\n",
      "Attempting to read file:  ./data\\jazz\\33. Count Basie - Jumpin_ at the Woodside.mp3\n",
      "Attempting to read file:  ./data\\jazz\\34. Louis Prima - Buona Sera.mp3\n",
      "Attempting to read file:  ./data\\jazz\\35. Woody Herman - The Good Earth.mp3\n",
      "Attempting to read file:  ./data\\jazz\\36. Django Reinhardt - Between the Devil and the Deep Blue Sea.mp3\n",
      "Attempting to read file:  ./data\\jazz\\37. Nat King Cole - Route 66.mp3\n",
      "Attempting to read file:  ./data\\jazz\\38. Frankie Laine - Dream a Little Dream of Me.mp3\n",
      "Attempting to read file:  ./data\\jazz\\39. Scott Joplin - The Entertainer.mp3\n",
      "Attempting to read file:  ./data\\jazz\\40. Eartha Kitt - Let_s Do It, Let_s Fall In Love.mp3\n",
      "Attempting to read file:  ./data\\jazz\\41. Acker Bilk - Stranger on the Shore.mp3\n",
      "Attempting to read file:  ./data\\jazz\\42. June Christy - It Could Happen to You.mp3\n",
      "Attempting to read file:  ./data\\jazz\\43. Sonny Rollins - Toot-Toot Tootsie.mp3\n",
      "Attempting to read file:  ./data\\jazz\\44. Benny Goodman - Six Flats Unfurnished.mp3\n",
      "Attempting to read file:  ./data\\jazz\\45. Gerry Mulligan - That Old Feeling.mp3\n",
      "Attempting to read file:  ./data\\jazz\\46. Cy Coleman - Fly Me to the Moon.mp3\n",
      "Attempting to read file:  ./data\\jazz\\47. Dizzy Gillespie - On the Sunnyside of the Street.mp3\n",
      "Attempting to read file:  ./data\\jazz\\48. Cannonball Adderley - Love For Sale.mp3\n",
      "Attempting to read file:  ./data\\jazz\\49. Libbie Jo Snyder - My Old Flame.mp3\n",
      "Attempting to read file:  ./data\\jazz\\50. The Merry Macs - Sentimental Journey.mp3\n",
      "Attempting to read file:  ./data\\jazz\\51. The Modern Jazz Quartet - Yardbird Suite.mp3\n",
      "Attempting to read file:  ./data\\jazz\\52. Louis Armstrong - Mack the Knife.mp3\n",
      "Attempting to read file:  ./data\\jazz\\53. Miles Davis - Venus De Milo.mp3\n",
      "Attempting to read file:  ./data\\jazz\\54. Charles Mingus - Peggy_s Blue Skylight.mp3\n",
      "Attempting to read file:  ./data\\jazz\\55. Quincy Jones - S_ Wonderful.mp3\n",
      "Attempting to read file:  ./data\\jazz\\56. Sammy Davis Jr - My Funny Valentine.mp3\n",
      "Attempting to read file:  ./data\\jazz\\57. Dave Valentin - Blackbird.mp3\n",
      "Attempting to read file:  ./data\\jazz\\58. Dinah Washington - I Wanna Be Loved.mp3\n",
      "Attempting to read file:  ./data\\jazz\\59. Ella Fitzgerald - Summertime.mp3\n",
      "Attempting to read file:  ./data\\jazz\\60. Miles Davis - So What.mp3\n",
      "Attempting to read file:  ./data\\jazz\\61. Duke Ellington - Take the A Train.mp3\n",
      "Attempting to read file:  ./data\\jazz\\62. Ella Fitzgerald - Sing Me a Swing Song.mp3\n",
      "Attempting to read file:  ./data\\jazz\\63. Stan Getz _ Joan Gilberto - The Girl From Ipanema.mp3\n",
      "error occured reading the file:  ./data\\jazz\\63. Stan Getz _ Joan Gilberto - The Girl From Ipanema.mp3\n",
      "Attempting to read file:  ./data\\jazz\\64. New York Voices - Stolen Moments.mp3\n",
      "Attempting to read file:  ./data\\jazz\\65. Dave Brubeck Quartet - Take Five.mp3\n",
      "Attempting to read file:  ./data\\jazz\\66. Sammy Davis Jr - Mr Bojangles.mp3\n",
      "Attempting to read file:  ./data\\jazz\\67. Billy Vaughn - Strangers In the Night.mp3\n",
      "Attempting to read file:  ./data\\jazz\\68. Peggy Lee - Fever.mp3\n",
      "Attempting to read file:  ./data\\jazz\\69. Billie Holiday - God Bless the Child.mp3\n",
      "Attempting to read file:  ./data\\jazz\\70. Glenn Miller - In the Mood.mp3\n",
      "Attempting to read file:  ./data\\jazz\\71. Chet Baker - My Funny Valentine.mp3\n",
      "Attempting to read file:  ./data\\jazz\\72. Maynard Ferguson - Jeepers Creepers.mp3\n",
      "Attempting to read file:  ./data\\jazz\\73. Diana Krall - Is You Or Is You Ain_t My Baby.mp3\n",
      "Attempting to read file:  ./data\\jazz\\74. Lol Williams Band - Mack the Knife.mp3\n",
      "Attempting to read file:  ./data\\jazz\\75. Billie Holiday - Strange Fruit.mp3\n",
      "Attempting to read file:  ./data\\jazz\\76. Charlie Parker - Ornithology.mp3\n",
      "Attempting to read file:  ./data\\jazz\\77. Charlie Barnet - Skyliner.mp3\n",
      "Attempting to read file:  ./data\\jazz\\78. Dave Weckl - Softly, As In A Morning Sunrise.mp3\n",
      "Attempting to read file:  ./data\\jazz\\79. Nina Simone - My Baby Just Cares For Me.mp3\n",
      "Attempting to read file:  ./data\\jazz\\80. Candido Camero - Giant Steps.mp3\n",
      "Attempting to read file:  ./data\\jazz\\81. Milt Jackson - Put Off.mp3\n",
      "Attempting to read file:  ./data\\jazz\\82. Buddy Clark - Baby It_s Cold Outside.mp3\n",
      "Attempting to read file:  ./data\\jazz\\83. Dinah Washington - What a Difference a Day Makes.mp3\n",
      "Attempting to read file:  ./data\\jazz\\84. Louis Armstrong - Among My Souvenirs (From the Best Years of Our Lives).mp3\n",
      "Attempting to read file:  ./data\\jazz\\85. Charles Mingus - So Long Eric.mp3\n",
      "Attempting to read file:  ./data\\jazz\\86. Dexter Gordon - Autumn In New York.mp3\n",
      "Attempting to read file:  ./data\\jazz\\87. The American Patrol Orchestra - Frenesi.mp3\n",
      "Attempting to read file:  ./data\\jazz\\88. Henry Cuesta - La Mer.mp3\n",
      "Attempting to read file:  ./data\\jazz\\89. Chris Barber_s Jazz Band - The Entertainer.mp3\n",
      "Attempting to read file:  ./data\\jazz\\90. Sidney Bechet - Aint Misbehavin.mp3\n",
      "Attempting to read file:  ./data\\jazz\\91. Dinah Shore - Baby It_s Cold Outside.mp3\n",
      "Attempting to read file:  ./data\\jazz\\92. Ray Charles - Greenbacks.mp3\n",
      "Attempting to read file:  ./data\\jazz\\93. Dinah Shore - Manhattan Serenade.mp3\n",
      "Attempting to read file:  ./data\\jazz\\94. Tony Bennett - As Time Goes By.mp3\n",
      "Attempting to read file:  ./data\\jazz\\95. Jimmy Dorsey _ His Orchestra - Contrasts.mp3\n",
      "Attempting to read file:  ./data\\jazz\\96. The Memphis Belle Orchestra - On the Sunny Side of the Street.mp3\n",
      "Attempting to read file:  ./data\\jazz\\97. Bill Evans - Stairway to the Stars.mp3\n",
      "Attempting to read file:  ./data\\jazz\\98. Nancy Wilson (with The Billy May Orchestra) - In Other Words (Fly Me to the Moon).mp3\n",
      "Attempting to read file:  ./data\\jazz\\99. Tony Bennett - Rags to Riches.mp3\n",
      "Attempting to read file:  ./data\\rock\\01. Alice Cooper - Poison.mp3\n",
      "Attempting to read file:  ./data\\rock\\01. Bonnie Tyler - Holding Out For A Hero.mp3\n",
      "Attempting to read file:  ./data\\rock\\01. Boston - More Than a Feeling.mp3\n",
      "Attempting to read file:  ./data\\rock\\01. Mott The Hoople - All The Young Dudes.mp3\n",
      "Attempting to read file:  ./data\\rock\\01. The Stone Roses - I Wanna Be Adored.mp3\n",
      "Attempting to read file:  ./data\\rock\\02. Argent - God Gave Rock And Roll To You.mp3\n",
      "Attempting to read file:  ./data\\rock\\02. Judas Priest - Breaking the Law.mp3\n",
      "Attempting to read file:  ./data\\rock\\02. Manic Street Preachers - Motorcycle Emptiness.mp3\n",
      "Attempting to read file:  ./data\\rock\\02. Meat Loaf - Bat Out Of Hell.mp3\n",
      "Attempting to read file:  ./data\\rock\\02. The Guess Who - American Woman.mp3\n",
      "Attempting to read file:  ./data\\rock\\03. Albert Hammond - The Free Electric Band.mp3\n",
      "Attempting to read file:  ./data\\rock\\03. Jim Steinman - Rock And Roll Dreams Come Through.mp3\n",
      "Attempting to read file:  ./data\\rock\\03. Primal Scream - Rocks.mp3\n",
      "Attempting to read file:  ./data\\rock\\03. Ram Jam - Black Betty.mp3\n",
      "Attempting to read file:  ./data\\rock\\03. RUN - DMC feat. Aerosmith.mp3\n",
      "Attempting to read file:  ./data\\rock\\04. Cyndi Lauper - I Drove All Night.mp3\n",
      "Attempting to read file:  ./data\\rock\\04. Lou Reed - Vicious.mp3\n",
      "Attempting to read file:  ./data\\rock\\04. Reef - Place Your Hands.mp3\n",
      "Attempting to read file:  ./data\\rock\\04. Santana - She_s Not There.mp3\n",
      "Attempting to read file:  ./data\\rock\\04. Toto - Hold the Line.mp3\n",
      "Attempting to read file:  ./data\\rock\\05. Big Brother _ The Holding Company feat. Janis Joplin - Piece of My Heart.mp3\n",
      "Attempting to read file:  ./data\\rock\\05. Blue Oyster Cult - (Don_t Fear) The Reaper.mp3\n",
      "Attempting to read file:  ./data\\rock\\05. Iggy And The Stooges - Search And Destroy (Iggy Pop Mix).mp3\n",
      "Attempting to read file:  ./data\\rock\\05. The Bangles - Hazy Shade Of Winter.mp3\n",
      "Attempting to read file:  ./data\\rock\\05. The Mooney Suzuki - Alive _ Amplified.mp3\n",
      "Attempting to read file:  ./data\\rock\\06. Judas Priest - Living After Midnight.mp3\n",
      "Attempting to read file:  ./data\\rock\\06. Mountain - Mississippi Queen.mp3\n",
      "Attempting to read file:  ./data\\rock\\06. Survivor - Eye of the Tiger.mp3\n",
      "Attempting to read file:  ./data\\rock\\06. Toto - Rosanna.mp3\n",
      "Attempting to read file:  ./data\\rock\\06. Wheatus - Teenage Dirtbag.mp3\n",
      "Attempting to read file:  ./data\\rock\\07. Argent - Hold Your Head Up.mp3\n",
      "Attempting to read file:  ./data\\rock\\07. Bowling For Soup - Girl All The Bad Guys Want.mp3\n",
      "Attempting to read file:  ./data\\rock\\07. Cheap Trick - I Want You To Want Me.mp3\n",
      "Attempting to read file:  ./data\\rock\\07. Europe - The Final Countdown.mp3\n",
      "Attempting to read file:  ./data\\rock\\07. Survivor - Burning Heart.mp3\n",
      "Attempting to read file:  ./data\\rock\\08. Europe - Rock The Night.mp3\n",
      "Attempting to read file:  ./data\\rock\\08. Fleetwood Mac - Black Magic Woman.mp3\n",
      "Attempting to read file:  ./data\\rock\\08. Lit - My Own Worst Enemy.mp3\n",
      "Attempting to read file:  ./data\\rock\\08. Meat Loaf with Cher - Dead Ringer For Love.mp3\n",
      "Attempting to read file:  ./data\\rock\\08. The Only Ones - Another Girl, Another Planet.mp3\n",
      "Attempting to read file:  ./data\\rock\\09. Big Audio Dynamite - E = MC².mp3\n",
      "Attempting to read file:  ./data\\rock\\09. Chicken Shack - I_d Rather Go Blind.mp3\n",
      "Attempting to read file:  ./data\\rock\\09. Jeff Buckley - Grace.mp3\n",
      "Attempting to read file:  ./data\\rock\\09. REO Speedwagon - Can_t Fight This Feeling.mp3\n",
      "Attempting to read file:  ./data\\rock\\09. REO Speedwagon - Keep On Loving You.mp3\n",
      "Attempting to read file:  ./data\\rock\\10. Dinosaur Jr. - Feel The Pain.mp3\n",
      "Attempting to read file:  ./data\\rock\\10. Family - Burlesque.mp3\n",
      "Attempting to read file:  ./data\\rock\\10. John Farnham - You_re The Voice.mp3\n",
      "Attempting to read file:  ./data\\rock\\10. Mr. Mister - Kyrie.mp3\n",
      "Attempting to read file:  ./data\\rock\\10. The Psychedelic Furs - Pretty In Pink.mp3\n",
      "Attempting to read file:  ./data\\rock\\11. Crazy Horse - Rock And Roll Band.mp3\n",
      "Attempting to read file:  ./data\\rock\\11. Heart - Barracuda 12. Gillan - Trouble.mp3\n",
      "Attempting to read file:  ./data\\rock\\11. Kansas - Dust In The Wind.mp3\n",
      "Attempting to read file:  ./data\\rock\\11. Sugar - If I Can_t Change Your Mind.mp3\n",
      "Attempting to read file:  ./data\\rock\\11. The Hooters - Satellite.mp3\n",
      "Attempting to read file:  ./data\\rock\\12. Deacon Blue - Real Gone Kid.mp3\n",
      "Attempting to read file:  ./data\\rock\\12. Gillan - Trouble.mp3\n",
      "Attempting to read file:  ./data\\rock\\12. Kansas - Carry On Wayward Son.mp3\n",
      "Attempting to read file:  ./data\\rock\\12. Rick Springfield - Human Touch.mp3\n",
      "Attempting to read file:  ./data\\rock\\12. Train - Drops Of Jupiter.mp3\n",
      "Attempting to read file:  ./data\\rock\\13. Bonnie Tyler - Faster Than the Speed of Night.mp3\n",
      "Attempting to read file:  ./data\\rock\\13. Boston - Peace Of Mind.mp3\n",
      "Attempting to read file:  ./data\\rock\\13. Captain Beefheart _ His Magic Band - Sure _Nuff _n_ Yes, I Do.mp3\n",
      "Attempting to read file:  ./data\\rock\\13. Patti Smith Group - Frederick.mp3\n",
      "Attempting to read file:  ./data\\rock\\13. The Fray - How To Save A Life.mp3\n",
      "Attempting to read file:  ./data\\rock\\14. Graham Bonnet - Night Games.mp3\n",
      "Attempting to read file:  ./data\\rock\\14. Hanoi Rocks - Up Around The Bend.mp3\n",
      "Attempting to read file:  ./data\\rock\\14. Iggy _ The Stooges - Raw Power (Iggy Pop Mix).mp3\n",
      "Attempting to read file:  ./data\\rock\\14. Justin Hayward - Forever Autumn.mp3\n",
      "Attempting to read file:  ./data\\rock\\14. The Calling - Wherever You Will Go.mp3\n",
      "Attempting to read file:  ./data\\rock\\15. Fleetwood Mac - Albatross.mp3\n",
      "Attempting to read file:  ./data\\rock\\15. Quiet Riot - Cum On Feel The Noise.mp3\n",
      "Attempting to read file:  ./data\\rock\\15. Redbone - The Witch Queen of New Orleans.mp3\n",
      "Attempting to read file:  ./data\\rock\\15. Rick Springfield - Jessie_s Girl.mp3\n",
      "Attempting to read file:  ./data\\rock\\15. Soul Asylum - Runaway Train.mp3\n",
      "Attempting to read file:  ./data\\rock\\16. Big Brother _ The Holding Company - I Need A Man To Love.mp3\n",
      "Attempting to read file:  ./data\\rock\\16. Kenny Loggins - Danger Zone.mp3\n",
      "Attempting to read file:  ./data\\rock\\16. Screaming Trees - Dollar Bill.mp3\n",
      "Attempting to read file:  ./data\\rock\\16. Ted Nugent - Cat Scratch Fever.mp3\n",
      "Attempting to read file:  ./data\\rock\\16. The Gun - Race with the Devil.mp3\n",
      "Attempting to read file:  ./data\\rock\\17. Living Colour - Love Rears Its Ugly Head.mp3\n",
      "Attempting to read file:  ./data\\rock\\17. Men At Work - Who Can It Be Now.mp3\n",
      "Attempting to read file:  ./data\\rock\\17. Santana - Evil Ways.mp3\n",
      "Attempting to read file:  ./data\\rock\\17. Spirit - Fresh Garbage.mp3\n",
      "Attempting to read file:  ./data\\rock\\17. Stevie Ray Vaughan And Double Trouble - Pride And Joy.mp3\n",
      "Attempting to read file:  ./data\\rock\\18. Alice Cooper - Hey Stoopid.mp3\n",
      "Attempting to read file:  ./data\\rock\\18. Bruce Hornsby _ The Range - The Way It Is.mp3\n",
      "Attempting to read file:  ./data\\rock\\18. Captain Beefheart _ His Magic Band - Zig Zag Wanderer.mp3\n",
      "Attempting to read file:  ./data\\rock\\18. The Byrds - So You Want to Be a Rock _N_ Roll Star.mp3\n",
      "Attempting to read file:  ./data\\rock\\18. The Jeff Healey Band - While My Guitar Gently Weeps.mp3\n",
      "Attempting to read file:  ./data\\rock\\19. J.J. Cale - Hold On Baby.mp3\n",
      "Attempting to read file:  ./data\\rock\\19. Patti Smith Group - Because the Night.mp3\n",
      "Attempting to read file:  ./data\\rock\\19. Ram Jam - Let It All Out.mp3\n",
      "Attempting to read file:  ./data\\rock\\19. The Lovin_ Spoonful - Summer in the City.mp3\n",
      "Attempting to read file:  ./data\\rock\\19. Warrant - Cherry Pie.mp3\n",
      "Attempting to read file:  ./data\\rock\\20. Bad English - When I See You Smile.mp3\n",
      "Attempting to read file:  ./data\\rock\\20. Lou Reed - Walk On the Wild Side.mp3\n",
      "Attempting to read file:  ./data\\rock\\20. Status Quo - Don_t Stop.mp3\n",
      "Attempting to read file:  ./data\\rock\\20. The Box Tops - The Letter.mp3\n",
      "Attempting to read file:  ./data\\rock\\20. The Edgar Winter Group - Frankenstein.mp3\n"
     ]
    }
   ],
   "source": [
    "# class_names = ['classical_test']\n",
    "class_names = os.listdir('./data')\n",
    "data_set = []\n",
    "for class_id in range(len(class_names)):\n",
    "    for file_name in os.listdir('./data/' + class_names[class_id]):\n",
    "        file_path = os.path.join('./data', class_names[class_id], file_name)\n",
    "\n",
    "        try:\n",
    "            print(\"Attempting to read file: \", file_path)\n",
    "            data = read_file_and_resample(file_path)\n",
    "            data_set.append((file_path, data, class_id))\n",
    "        except:\n",
    "            print('error occured reading the file: ', file_path)\n",
    "\n",
    "with open('data.pickle', 'wb') as f:\n",
    "    pickle.dump(data_set, f, pickle.HIGHEST_PROTOCOL)"
   ]
  },
  {
   "cell_type": "code",
   "execution_count": 3,
   "metadata": {},
   "outputs": [],
   "source": [
    "f = open('data.pickle', 'rb')\n",
    "restored_data = pickle.load(f)"
   ]
  },
  {
   "cell_type": "code",
   "execution_count": 4,
   "metadata": {},
   "outputs": [],
   "source": [
    "file_paths = [file_name for (file_name, data, label) in restored_data]\n",
    "labels = [label for (file_name, data, label) in restored_data]\n",
    "wavedata = [data for (file_name, data, label) in restored_data]\n",
    "df = pd.DataFrame({'file_path': file_paths, 'wavedata': wavedata, 'label': labels})"
   ]
  },
  {
   "attachments": {},
   "cell_type": "markdown",
   "metadata": {},
   "source": [
    "## Converting dataset into spectrograms"
   ]
  },
  {
   "cell_type": "code",
   "execution_count": 5,
   "metadata": {},
   "outputs": [],
   "source": [
    "train_val_dataset, test_dataset = train_test_split(df, test_size=0.1, random_state=123)\n",
    "train_dataset, val_dataset = train_test_split(train_val_dataset, test_size=0.1, random_state=123)\n",
    "\n",
    "test_df = process_dataset(test_dataset)\n",
    "\n",
    "train_df = process_dataset(train_dataset)\n",
    "val_df = process_dataset(val_dataset)\n",
    "\n",
    "\n",
    "# with open('train_df.pickle', 'wb') as f:\n",
    "#     pickle.dump(train_df, f, pickle.HIGHEST_PROTOCOL)\n",
    "# with open('val_df.pickle', 'wb') as f:\n",
    "#     pickle.dump(val_df, f, pickle.HIGHEST_PROTOCOL)\n",
    "# with open('test_df.pickle', 'wb') as f:\n",
    "#     pickle.dump(test_df, f, pickle.HIGHEST_PROTOCOL)"
   ]
  },
  {
   "cell_type": "code",
   "execution_count": 3,
   "metadata": {},
   "outputs": [],
   "source": [
    "with open('train_df.pickle', 'rb') as f:\n",
    "    train_df = pickle.load(f)\n",
    "\n",
    "with open('val_df.pickle', 'rb') as f:\n",
    "    val_df = pickle.load(f)\n",
    "\n",
    "with open('test_df.pickle', 'rb') as f:\n",
    "    test_df = pickle.load(f)"
   ]
  },
  {
   "cell_type": "code",
   "execution_count": 5,
   "metadata": {},
   "outputs": [],
   "source": [
    "X_train, y_train = np.array([np.array(\n",
    "    spectrogram) for spectrogram in train_df['spectrogram']]), train_df['label']\n",
    "X_val, y_val = np.array([np.array(spectrogram)\n",
    "                        for spectrogram in val_df['spectrogram']]), val_df['label']\n",
    "X_test, y_test = np.array([np.array(spectrogram)\n",
    "                          for spectrogram in test_df['spectrogram']]), test_df['label']"
   ]
  },
  {
   "attachments": {},
   "cell_type": "markdown",
   "metadata": {},
   "source": [
    "## Survey of traditional ML methods"
   ]
  },
  {
   "cell_type": "code",
   "execution_count": 199,
   "metadata": {},
   "outputs": [
    {
     "data": {
      "text/html": [
       "<style>#sk-container-id-1 {color: black;background-color: white;}#sk-container-id-1 pre{padding: 0;}#sk-container-id-1 div.sk-toggleable {background-color: white;}#sk-container-id-1 label.sk-toggleable__label {cursor: pointer;display: block;width: 100%;margin-bottom: 0;padding: 0.3em;box-sizing: border-box;text-align: center;}#sk-container-id-1 label.sk-toggleable__label-arrow:before {content: \"▸\";float: left;margin-right: 0.25em;color: #696969;}#sk-container-id-1 label.sk-toggleable__label-arrow:hover:before {color: black;}#sk-container-id-1 div.sk-estimator:hover label.sk-toggleable__label-arrow:before {color: black;}#sk-container-id-1 div.sk-toggleable__content {max-height: 0;max-width: 0;overflow: hidden;text-align: left;background-color: #f0f8ff;}#sk-container-id-1 div.sk-toggleable__content pre {margin: 0.2em;color: black;border-radius: 0.25em;background-color: #f0f8ff;}#sk-container-id-1 input.sk-toggleable__control:checked~div.sk-toggleable__content {max-height: 200px;max-width: 100%;overflow: auto;}#sk-container-id-1 input.sk-toggleable__control:checked~label.sk-toggleable__label-arrow:before {content: \"▾\";}#sk-container-id-1 div.sk-estimator input.sk-toggleable__control:checked~label.sk-toggleable__label {background-color: #d4ebff;}#sk-container-id-1 div.sk-label input.sk-toggleable__control:checked~label.sk-toggleable__label {background-color: #d4ebff;}#sk-container-id-1 input.sk-hidden--visually {border: 0;clip: rect(1px 1px 1px 1px);clip: rect(1px, 1px, 1px, 1px);height: 1px;margin: -1px;overflow: hidden;padding: 0;position: absolute;width: 1px;}#sk-container-id-1 div.sk-estimator {font-family: monospace;background-color: #f0f8ff;border: 1px dotted black;border-radius: 0.25em;box-sizing: border-box;margin-bottom: 0.5em;}#sk-container-id-1 div.sk-estimator:hover {background-color: #d4ebff;}#sk-container-id-1 div.sk-parallel-item::after {content: \"\";width: 100%;border-bottom: 1px solid gray;flex-grow: 1;}#sk-container-id-1 div.sk-label:hover label.sk-toggleable__label {background-color: #d4ebff;}#sk-container-id-1 div.sk-serial::before {content: \"\";position: absolute;border-left: 1px solid gray;box-sizing: border-box;top: 0;bottom: 0;left: 50%;z-index: 0;}#sk-container-id-1 div.sk-serial {display: flex;flex-direction: column;align-items: center;background-color: white;padding-right: 0.2em;padding-left: 0.2em;position: relative;}#sk-container-id-1 div.sk-item {position: relative;z-index: 1;}#sk-container-id-1 div.sk-parallel {display: flex;align-items: stretch;justify-content: center;background-color: white;position: relative;}#sk-container-id-1 div.sk-item::before, #sk-container-id-1 div.sk-parallel-item::before {content: \"\";position: absolute;border-left: 1px solid gray;box-sizing: border-box;top: 0;bottom: 0;left: 50%;z-index: -1;}#sk-container-id-1 div.sk-parallel-item {display: flex;flex-direction: column;z-index: 1;position: relative;background-color: white;}#sk-container-id-1 div.sk-parallel-item:first-child::after {align-self: flex-end;width: 50%;}#sk-container-id-1 div.sk-parallel-item:last-child::after {align-self: flex-start;width: 50%;}#sk-container-id-1 div.sk-parallel-item:only-child::after {width: 0;}#sk-container-id-1 div.sk-dashed-wrapped {border: 1px dashed gray;margin: 0 0.4em 0.5em 0.4em;box-sizing: border-box;padding-bottom: 0.4em;background-color: white;}#sk-container-id-1 div.sk-label label {font-family: monospace;font-weight: bold;display: inline-block;line-height: 1.2em;}#sk-container-id-1 div.sk-label-container {text-align: center;}#sk-container-id-1 div.sk-container {/* jupyter's `normalize.less` sets `[hidden] { display: none; }` but bootstrap.min.css set `[hidden] { display: none !important; }` so we also need the `!important` here to be able to override the default hidden behavior on the sphinx rendered scikit-learn.org. See: https://github.com/scikit-learn/scikit-learn/issues/21755 */display: inline-block !important;position: relative;}#sk-container-id-1 div.sk-text-repr-fallback {display: none;}</style><div id=\"sk-container-id-1\" class=\"sk-top-container\"><div class=\"sk-text-repr-fallback\"><pre>SGDClassifier()</pre><b>In a Jupyter environment, please rerun this cell to show the HTML representation or trust the notebook. <br />On GitHub, the HTML representation is unable to render, please try loading this page with nbviewer.org.</b></div><div class=\"sk-container\" hidden><div class=\"sk-item\"><div class=\"sk-estimator sk-toggleable\"><input class=\"sk-toggleable__control sk-hidden--visually\" id=\"sk-estimator-id-1\" type=\"checkbox\" checked><label for=\"sk-estimator-id-1\" class=\"sk-toggleable__label sk-toggleable__label-arrow\">SGDClassifier</label><div class=\"sk-toggleable__content\"><pre>SGDClassifier()</pre></div></div></div></div></div>"
      ],
      "text/plain": [
       "SGDClassifier()"
      ]
     },
     "execution_count": 199,
     "metadata": {},
     "output_type": "execute_result"
    }
   ],
   "source": [
    "from sklearn.linear_model import SGDClassifier\n",
    "from sklearn.metrics import accuracy_score\n",
    "\n",
    "X_train_columns = pd.DataFrame(X_train.reshape(len(X_train), 4160))\n",
    "\n",
    "lin_classifier = SGDClassifier()\n",
    "lin_classifier.fit(X_train_columns, y_train)\n",
    "\n",
    "X_test_columns = pd.DataFrame(X_test.reshape(len(X_test), 4160))\n",
    "y_pred = lin_classifier.predict(X_test_columns)\n",
    "\n",
    "accuracy_score(y_test, y_pred)\n"
   ]
  },
  {
   "cell_type": "code",
   "execution_count": 203,
   "metadata": {},
   "outputs": [
    {
     "data": {
      "text/plain": [
       "0.3367231638418079"
      ]
     },
     "execution_count": 203,
     "metadata": {},
     "output_type": "execute_result"
    }
   ],
   "source": [
    "from sklearn.metrics import accuracy_score\n",
    "from sklearn.neighbors import KNeighborsClassifier\n",
    "\n",
    "knn_classifier = KNeighborsClassifier()\n",
    "knn_classifier.fit(X_train_columns, y_train)\n",
    "\n",
    "y_pred = knn_classifier.predict(X_test_columns)\n",
    "\n",
    "accuracy_score(y_test, y_pred)"
   ]
  },
  {
   "cell_type": "code",
   "execution_count": 209,
   "metadata": {},
   "outputs": [
    {
     "data": {
      "text/plain": [
       "0.6139359698681732"
      ]
     },
     "execution_count": 209,
     "metadata": {},
     "output_type": "execute_result"
    }
   ],
   "source": [
    "from sklearn.ensemble import RandomForestClassifier\n",
    "\n",
    "rand_forest_classifier = RandomForestClassifier(n_jobs=8)\n",
    "\n",
    "rand_forest_classifier.fit(X_train_columns, y_train)\n",
    "\n",
    "y_pred = rand_forest_classifier.predict(X_test_columns)\n",
    "\n",
    "accuracy_score(y_test, y_pred)"
   ]
  },
  {
   "cell_type": "code",
   "execution_count": 210,
   "metadata": {},
   "outputs": [
    {
     "data": {
      "text/plain": [
       "0.5661016949152542"
      ]
     },
     "execution_count": 210,
     "metadata": {},
     "output_type": "execute_result"
    }
   ],
   "source": [
    "from sklearn.ensemble import BaggingClassifier\n",
    "\n",
    "bagging_classifier = BaggingClassifier(n_jobs=8)\n",
    "\n",
    "bagging_classifier.fit(X_train_columns, y_train)\n",
    "\n",
    "y_pred = bagging_classifier.predict(X_test_columns)\n",
    "\n",
    "accuracy_score(y_test, y_pred)"
   ]
  },
  {
   "cell_type": "code",
   "execution_count": 212,
   "metadata": {},
   "outputs": [
    {
     "data": {
      "text/plain": [
       "0.527306967984934"
      ]
     },
     "execution_count": 212,
     "metadata": {},
     "output_type": "execute_result"
    }
   ],
   "source": [
    "from sklearn.ensemble import AdaBoostClassifier\n",
    "\n",
    "ada_boost_classifier = AdaBoostClassifier(n_estimators=200)\n",
    "\n",
    "ada_boost_classifier.fit(X_train_columns, y_train)\n",
    "\n",
    "y_pred = ada_boost_classifier.predict(X_test_columns)\n",
    "\n",
    "accuracy_score(y_test, y_pred)\n"
   ]
  },
  {
   "attachments": {},
   "cell_type": "markdown",
   "metadata": {},
   "source": [
    "## CNN model"
   ]
  },
  {
   "cell_type": "code",
   "execution_count": 8,
   "metadata": {},
   "outputs": [],
   "source": [
    "\n",
    "model = keras.models.Sequential([\n",
    "    keras.layers.RandomRotation(0.1, input_shape=[32, 130, 1]),\n",
    "    keras.layers.RandomZoom(-.2, .2),\n",
    "    keras.layers.Conv2D(64, 5, activation=\"relu\", padding=\"same\"),\n",
    "    keras.layers.Conv2D(64, 5, activation=\"relu\", padding=\"same\"),\n",
    "    keras.layers.AveragePooling2D(2),\n",
    "    keras.layers.BatchNormalization(),\n",
    "    keras.layers.Conv2D(128, 5, activation=\"relu\", padding=\"same\"),\n",
    "    keras.layers.Conv2D(128, 5, activation=\"relu\", padding=\"same\"),\n",
    "    keras.layers.AveragePooling2D(2),\n",
    "    keras.layers.BatchNormalization(),\n",
    "    keras.layers.GlobalAveragePooling2D(),\n",
    "    keras.layers.Dropout(0.2),\n",
    "    keras.layers.Dense(len(class_names), activation='softmax')\n",
    "])\n",
    "\n",
    "model.compile(loss=\"sparse_categorical_crossentropy\",\n",
    "              optimizer=\"sgd\",\n",
    "              metrics=[\"accuracy\"])\n"
   ]
  },
  {
   "cell_type": "code",
   "execution_count": 9,
   "metadata": {},
   "outputs": [
    {
     "name": "stdout",
     "output_type": "stream",
     "text": [
      "Model: \"sequential_1\"\n",
      "_________________________________________________________________\n",
      " Layer (type)                Output Shape              Param #   \n",
      "=================================================================\n",
      " random_rotation (RandomRota  (None, 32, 130, 1)       0         \n",
      " tion)                                                           \n",
      "                                                                 \n",
      " random_zoom (RandomZoom)    (None, 32, 130, 1)        0         \n",
      "                                                                 \n",
      " conv2d (Conv2D)             (None, 32, 130, 64)       1664      \n",
      "                                                                 \n",
      " conv2d_1 (Conv2D)           (None, 32, 130, 64)       102464    \n",
      "                                                                 \n",
      " average_pooling2d (AverageP  (None, 16, 65, 64)       0         \n",
      " ooling2D)                                                       \n",
      "                                                                 \n",
      " batch_normalization (BatchN  (None, 16, 65, 64)       256       \n",
      " ormalization)                                                   \n",
      "                                                                 \n",
      " conv2d_2 (Conv2D)           (None, 16, 65, 128)       204928    \n",
      "                                                                 \n",
      " conv2d_3 (Conv2D)           (None, 16, 65, 128)       409728    \n",
      "                                                                 \n",
      " average_pooling2d_1 (Averag  (None, 8, 32, 128)       0         \n",
      " ePooling2D)                                                     \n",
      "                                                                 \n",
      " batch_normalization_1 (Batc  (None, 8, 32, 128)       512       \n",
      " hNormalization)                                                 \n",
      "                                                                 \n",
      " global_average_pooling2d (G  (None, 128)              0         \n",
      " lobalAveragePooling2D)                                          \n",
      "                                                                 \n",
      " dropout (Dropout)           (None, 128)               0         \n",
      "                                                                 \n",
      " dense (Dense)               (None, 5)                 645       \n",
      "                                                                 \n",
      "=================================================================\n",
      "Total params: 720,197\n",
      "Trainable params: 719,813\n",
      "Non-trainable params: 384\n",
      "_________________________________________________________________\n"
     ]
    }
   ],
   "source": [
    "model.summary()"
   ]
  },
  {
   "attachments": {},
   "cell_type": "markdown",
   "metadata": {},
   "source": [
    "### Training"
   ]
  },
  {
   "cell_type": "code",
   "execution_count": null,
   "metadata": {},
   "outputs": [],
   "source": [
    "from tensorflow.keras.callbacks import EarlyStopping, ModelCheckpoint\n",
    "\n",
    "callbacks = [ModelCheckpoint(filepath='best_model_colab.h5', monitor='val_loss', save_best_only=True),\n",
    "             EarlyStopping(monitor='val_loss', patience=100)]\n",
    "\n",
    "history = model.fit(X_train, y_train, epochs=1000,\n",
    "                    callbacks=callbacks,  # Early stopping\n",
    "                    validation_data=(X_val, y_val))"
   ]
  },
  {
   "attachments": {},
   "cell_type": "markdown",
   "metadata": {},
   "source": [
    "### Loading a model"
   ]
  },
  {
   "cell_type": "code",
   "execution_count": 3,
   "metadata": {},
   "outputs": [
    {
     "name": "stdout",
     "output_type": "stream",
     "text": [
      "WARNING:tensorflow:Using a while_loop for converting RngReadAndSkip cause there is no registered converter for this op.\n",
      "WARNING:tensorflow:Using a while_loop for converting Bitcast cause there is no registered converter for this op.\n",
      "WARNING:tensorflow:Using a while_loop for converting Bitcast cause there is no registered converter for this op.\n",
      "WARNING:tensorflow:Using a while_loop for converting StatelessRandomUniformV2 cause there is no registered converter for this op.\n",
      "WARNING:tensorflow:Using a while_loop for converting ImageProjectiveTransformV3 cause there is no registered converter for this op.\n",
      "WARNING:tensorflow:Using a while_loop for converting RngReadAndSkip cause there is no registered converter for this op.\n",
      "WARNING:tensorflow:Using a while_loop for converting Bitcast cause there is no registered converter for this op.\n",
      "WARNING:tensorflow:Using a while_loop for converting Bitcast cause there is no registered converter for this op.\n",
      "WARNING:tensorflow:Using a while_loop for converting StatelessRandomUniformV2 cause there is no registered converter for this op.\n",
      "WARNING:tensorflow:Using a while_loop for converting RngReadAndSkip cause there is no registered converter for this op.\n",
      "WARNING:tensorflow:Using a while_loop for converting Bitcast cause there is no registered converter for this op.\n",
      "WARNING:tensorflow:Using a while_loop for converting Bitcast cause there is no registered converter for this op.\n",
      "WARNING:tensorflow:Using a while_loop for converting StatelessRandomUniformV2 cause there is no registered converter for this op.\n",
      "WARNING:tensorflow:Using a while_loop for converting ImageProjectiveTransformV3 cause there is no registered converter for this op.\n"
     ]
    }
   ],
   "source": [
    "loaded_model = keras.models.load_model('./best_model_colab.h5')"
   ]
  },
  {
   "attachments": {},
   "cell_type": "markdown",
   "metadata": {},
   "source": [
    "### Model Evaluation"
   ]
  },
  {
   "attachments": {},
   "cell_type": "markdown",
   "metadata": {},
   "source": [
    "#### Evaluation of per-slice accuracy"
   ]
  },
  {
   "cell_type": "code",
   "execution_count": null,
   "metadata": {},
   "outputs": [],
   "source": [
    "loaded_model.evaluate(X_test, y_test)"
   ]
  },
  {
   "attachments": {},
   "cell_type": "markdown",
   "metadata": {},
   "source": [
    "#### Evaluation of voting method"
   ]
  },
  {
   "cell_type": "code",
   "execution_count": 137,
   "metadata": {},
   "outputs": [
    {
     "name": "stdout",
     "output_type": "stream",
     "text": [
      "1/1 [==============================] - 0s 109ms/step\n",
      "1/1 [==============================] - 0s 182ms/step\n",
      "1/1 [==============================] - 0s 175ms/step\n",
      "2/2 [==============================] - 0s 134ms/step\n",
      "2/2 [==============================] - 0s 219ms/step\n",
      "3/3 [==============================] - 0s 116ms/step\n",
      "2/2 [==============================] - 0s 181ms/step\n",
      "2/2 [==============================] - 1s 289ms/step\n",
      "3/3 [==============================] - 1s 256ms/step\n",
      "3/3 [==============================] - 1s 260ms/step\n",
      "2/2 [==============================] - 1s 506ms/step\n",
      "3/3 [==============================] - 1s 307ms/step\n",
      "2/2 [==============================] - 1s 319ms/step\n",
      "2/2 [==============================] - 1s 171ms/step\n",
      "3/3 [==============================] - 1s 230ms/step\n",
      "3/3 [==============================] - 1s 319ms/step\n",
      "2/2 [==============================] - 1s 131ms/step\n",
      "1/1 [==============================] - 0s 270ms/step\n",
      "2/2 [==============================] - 1s 177ms/step\n",
      "3/3 [==============================] - 1s 218ms/step\n",
      "3/3 [==============================] - 1s 329ms/step\n",
      "3/3 [==============================] - 1s 229ms/step\n",
      "3/3 [==============================] - 1s 212ms/step\n",
      "1/1 [==============================] - 0s 224ms/step\n",
      "3/3 [==============================] - 1s 260ms/step\n",
      "2/2 [==============================] - 1s 258ms/step\n",
      "2/2 [==============================] - 1s 210ms/step\n",
      "3/3 [==============================] - 1s 235ms/step\n",
      "1/1 [==============================] - 0s 353ms/step\n",
      "2/2 [==============================] - 1s 388ms/step\n",
      "2/2 [==============================] - 1s 326ms/step\n",
      "2/2 [==============================] - 1s 255ms/step\n",
      "3/3 [==============================] - 1s 217ms/step\n",
      "2/2 [==============================] - 1s 157ms/step\n",
      "3/3 [==============================] - 1s 254ms/step\n",
      "1/1 [==============================] - 0s 378ms/step\n",
      "3/3 [==============================] - 1s 255ms/step\n",
      "3/3 [==============================] - 1s 204ms/step\n",
      "2/2 [==============================] - 1s 242ms/step\n",
      "2/2 [==============================] - 1s 172ms/step\n",
      "3/3 [==============================] - 1s 302ms/step\n",
      "2/2 [==============================] - 1s 251ms/step\n",
      "2/2 [==============================] - 1s 280ms/step\n",
      "2/2 [==============================] - 0s 45ms/step\n",
      "2/2 [==============================] - 1s 170ms/step\n",
      "2/2 [==============================] - 1s 183ms/step\n",
      "2/2 [==============================] - 1s 316ms/step\n",
      "3/3 [==============================] - 1s 247ms/step\n"
     ]
    }
   ],
   "source": [
    "test_songs = []\n",
    "for file_path in test_df['file_path'].unique():\n",
    "    test_songs.append(test_df[test_df['file_path'] == file_path])\n",
    "    \n",
    "predictions = []\n",
    "true_labels = []\n",
    "\n",
    "for song_df in test_songs:\n",
    "    correct_label = song_df.values[0][3]\n",
    "    final_prediction = predict_using_model(\n",
    "        [section_row[2] for section_row in song_df.values], loaded_model)\n",
    "    \n",
    "    predictions.append(final_prediction)\n",
    "    true_labels.append(correct_label)"
   ]
  },
  {
   "cell_type": "code",
   "execution_count": 138,
   "metadata": {},
   "outputs": [
    {
     "name": "stdout",
     "output_type": "stream",
     "text": [
      "              precision    recall  f1-score   support\n",
      "\n",
      "   classical       1.00      0.83      0.91        12\n",
      "     country       1.00      0.89      0.94         9\n",
      "      hiphop       1.00      1.00      1.00        11\n",
      "        jazz       0.75      0.60      0.67         5\n",
      "        rock       0.73      1.00      0.85        11\n",
      "\n",
      "    accuracy                           0.90        48\n",
      "   macro avg       0.90      0.86      0.87        48\n",
      "weighted avg       0.91      0.90      0.90        48\n",
      "\n"
     ]
    }
   ],
   "source": [
    "from sklearn.metrics import classification_report\n",
    "\n",
    "print(classification_report(true_labels, predictions, labels=range(len(class_names)), target_names=class_names))"
   ]
  },
  {
   "attachments": {},
   "cell_type": "markdown",
   "metadata": {},
   "source": [
    "##### Checking for patterns in misidentified data\n",
    "We can see that when model misidentifies it does so for the vast majority of the slices"
   ]
  },
  {
   "cell_type": "code",
   "execution_count": 220,
   "metadata": {},
   "outputs": [
    {
     "name": "stdout",
     "output_type": "stream",
     "text": [
      "./data\\country\\011. Willie Nelson - Blue Eyes Crying In the Rain.mp3\n",
      "True label:  0.0\n",
      "3/3 [==============================] - 1s 245ms/step\n",
      "Slice predictions:  [4 4 4 3 3 4 4 4 4 4 4 4 4 4 4 3 4 4 4 4 4 4 4 4 4 4 4 4 4 4 4 4 4 4 4 4 4\n",
      " 4 4 4 4 4 4 4 4 4 4 4 4 4 4 4 4 4 4 4 4 4 4 4 4 4 4 4 4 4 4 4 0 0 4]\n",
      "Cumul. Prediction, Labels predicted, Labels frequency\n",
      "4 [0 3 4] [ 2  3 66]\n",
      "\n",
      "\n",
      "./data\\classical\\Berlioz - Rakoczy March.mp3\n",
      "True label:  3.0\n",
      "3/3 [==============================] - 1s 293ms/step\n",
      "Slice predictions:  [4 4 4 3 3 4 4 4 4 4 4 4 4 4 4 3 4 4 4 4 4 4 4 4 4 4 4 4 4 4 4 4 4 4 4 4 4\n",
      " 4 4 4 4 4 4 4 4 4 4 4 4 4 4 4 4 4 4 4 4 4 4 4 4 4 4 4 4 4 4 4 0 0 4]\n",
      "Cumul. Prediction, Labels predicted, Labels frequency\n",
      "4 [0 3 4] [ 2  3 66]\n",
      "\n",
      "\n",
      "./data\\jazz\\94. Tony Bennett - As Time Goes By.mp3\n",
      "True label:  0.0\n",
      "3/3 [==============================] - 1s 255ms/step\n",
      "Slice predictions:  [4 4 4 3 3 4 4 4 4 4 4 4 4 4 4 3 4 4 4 4 4 4 4 4 4 4 4 4 4 4 4 4 4 4 4 4 4\n",
      " 4 4 4 4 4 4 4 4 4 4 4 4 4 4 4 4 4 4 4 4 4 4 4 4 4 4 4 4 4 4 4 0 0 4]\n",
      "Cumul. Prediction, Labels predicted, Labels frequency\n",
      "4 [0 3 4] [ 2  3 66]\n",
      "\n",
      "\n",
      "./data\\classical\\Tchaikovsky - 1812 Overture, Op. 49.mp3\n",
      "True label:  3.0\n",
      "3/3 [==============================] - 1s 245ms/step\n",
      "Slice predictions:  [4 4 4 3 3 4 4 4 4 4 4 4 4 4 4 3 4 4 4 4 4 4 4 4 4 4 4 4 4 4 4 4 4 4 4 4 4\n",
      " 4 4 4 4 4 4 4 4 4 4 4 4 4 4 4 4 4 4 4 4 4 4 4 4 4 4 4 4 4 4 4 0 0 4]\n",
      "Cumul. Prediction, Labels predicted, Labels frequency\n",
      "4 [0 3 4] [ 2  3 66]\n",
      "\n",
      "\n",
      "./data\\jazz\\67. Billy Vaughn - Strangers In the Night.mp3\n",
      "True label:  1.0\n",
      "3/3 [==============================] - 1s 292ms/step\n",
      "Slice predictions:  [4 4 4 3 3 4 4 4 4 4 4 4 4 4 4 3 4 4 4 4 4 4 4 4 4 4 4 4 4 4 4 4 4 4 4 4 4\n",
      " 4 4 4 4 4 4 4 4 4 4 4 4 4 4 4 4 4 4 4 4 4 4 4 4 4 4 4 4 4 4 4 0 0 4]\n",
      "Cumul. Prediction, Labels predicted, Labels frequency\n",
      "4 [0 3 4] [ 2  3 66]\n",
      "\n",
      "\n"
     ]
    }
   ],
   "source": [
    "bad_preds = []\n",
    "for pred_id in range(len(predictions)):\n",
    "    if true_labels[pred_id] != predictions[pred_id]:\n",
    "        print(song.values[0][0])\n",
    "        print(\"True label: \", true_labels[pred_id])\n",
    "        song = test_songs[pred_id]\n",
    "        correct_label = song_df.values[0][3]\n",
    "        final_prediction = predict_using_model([section_row[2] for section_row in song_df.values], loaded_model, verbose = 1)\n",
    "        bad_preds.append(song)\n",
    "        print(\"\\n\")\n",
    "        \n"
   ]
  },
  {
   "attachments": {},
   "cell_type": "markdown",
   "metadata": {},
   "source": [
    "## Predicting an individual song"
   ]
  },
  {
   "cell_type": "code",
   "execution_count": 4,
   "metadata": {},
   "outputs": [
    {
     "name": "stdout",
     "output_type": "stream",
     "text": [
      "3/3 [==============================] - 1s 131ms/step\n",
      "Slice predictions:  [1 1 1 2 2 1 3 1 3 3 1 3 1 1 1 1 3 1 1 1 1 1 1 3 3 3 3 2 3 1 1 1 1 3 1 1 1\n",
      " 1 3 1 1 1 1 1 4 1 3 3 3 1 1 1 1 3 2 2 1 1 1 1 3 1 1 3 1 2 3 1 3 3]\n",
      "Cumul. Prediction, Labels predicted, Labels frequency\n",
      "1 [1 2 3 4] [42  6 21  1]\n"
     ]
    },
    {
     "data": {
      "text/plain": [
       "1"
      ]
     },
     "execution_count": 4,
     "metadata": {},
     "output_type": "execute_result"
    }
   ],
   "source": [
    "file_path = \"Sierra Ferrell - Hey Me, Hey Mama (Official Audio).mp3\"\n",
    "samples, sr = librosa.load(file_path)\n",
    "\n",
    "slices = slice_audio(samples)\n",
    "\n",
    "X = [convert_to_spectogram(section) for section in slices]\n",
    "\n",
    "predict_using_model(X, loaded_model, verbose = 1)"
   ]
  }
 ],
 "metadata": {
  "kernelspec": {
   "display_name": "Python 3.10.2 64-bit",
   "language": "python",
   "name": "python3"
  },
  "language_info": {
   "codemirror_mode": {
    "name": "ipython",
    "version": 3
   },
   "file_extension": ".py",
   "mimetype": "text/x-python",
   "name": "python",
   "nbconvert_exporter": "python",
   "pygments_lexer": "ipython3",
   "version": "3.10.8"
  },
  "orig_nbformat": 4,
  "vscode": {
   "interpreter": {
    "hash": "4e27576d3e4c23bd8dac32f5343e7528f6cdd3c2b199e1e27a8bd581b8a8e89b"
   }
  }
 },
 "nbformat": 4,
 "nbformat_minor": 2
}
